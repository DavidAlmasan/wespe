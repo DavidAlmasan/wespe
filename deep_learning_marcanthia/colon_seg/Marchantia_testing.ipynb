{
 "cells": [
  {
   "cell_type": "code",
   "execution_count": 1,
   "metadata": {},
   "outputs": [],
   "source": [
    "import torch\n",
    "import torch.nn as nn\n",
    "\n",
    "import numpy as np\n",
    "import torchvision\n",
    "from torchvision import datasets, models, transforms\n",
    "import matplotlib.pyplot as plt\n",
    "import time\n",
    "import os\n",
    "import copy\n",
    "from PIL import Image\n",
    "from models import UNet11, UNet16, UNetResNet34, UNet11Double\n",
    "\n",
    "os.environ[\"CUDA_VISIBLE_DEVICES\"] = \"1\""
   ]
  },
  {
   "cell_type": "code",
   "execution_count": 2,
   "metadata": {},
   "outputs": [],
   "source": [
    "#model = UNet11Double(pretrained=True)\n",
    "model = UNet16(pretrained=True)\n",
    "\n",
    "model.load_state_dict(torch.load('./results/vgg16_colon1/model.pt'))\n",
    "model.eval()\n",
    "\n",
    "device = torch.device(\"cuda:0\")\n",
    "\n",
    "model = model.to(device)"
   ]
  },
  {
   "cell_type": "code",
   "execution_count": 9,
   "metadata": {},
   "outputs": [],
   "source": [
    "transform = transforms.Compose([\n",
    "    transforms.Grayscale(num_output_channels=3),\n",
    "    transforms.ToTensor()\n",
    "])\n",
    "\n",
    "with torch.no_grad():\n",
    "#     image1 = Image.open('./data/marchantia_imgs/g2_t002_c001.png')\n",
    "    image1 = Image.open('../marchantia_images/g6_t037_c001.png')\n",
    "    image1 = transform(image1)\n",
    "    #image2 = transform(image2)\n",
    "    image1 = image1.unsqueeze(0)\n",
    "    #image2 = image2.unsqueeze(0)\n",
    "    #images = (image1.to(device), image2.to(device))\n",
    "    #output = model(images)\n",
    "    image1 = image1.to(device)\n",
    "    output = model(image1)\n",
    "    output = output > 0.5\n",
    "    torchvision.utils.save_image(output, './results/vgg16_colon1/result6_37.png')\n",
    "    "
   ]
  },
  {
   "cell_type": "code",
   "execution_count": null,
   "metadata": {
    "collapsed": true
   },
   "outputs": [],
   "source": []
  }
 ],
 "metadata": {
  "kernelspec": {
   "display_name": "Python 3",
   "language": "python",
   "name": "python3"
  },
  "language_info": {
   "codemirror_mode": {
    "name": "ipython",
    "version": 3
   },
   "file_extension": ".py",
   "mimetype": "text/x-python",
   "name": "python",
   "nbconvert_exporter": "python",
   "pygments_lexer": "ipython3",
   "version": "3.5.2"
  }
 },
 "nbformat": 4,
 "nbformat_minor": 2
}
