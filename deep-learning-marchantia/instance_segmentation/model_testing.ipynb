{
 "cells": [
  {
   "cell_type": "code",
   "execution_count": 1,
   "metadata": {},
   "outputs": [],
   "source": [
    "import torch\n",
    "import torch.nn as nn\n",
    "\n",
    "import numpy as np\n",
    "import torchvision\n",
    "from torchvision import datasets, models, transforms\n",
    "import matplotlib.pyplot as plt\n",
    "import time\n",
    "import os\n",
    "import copy\n",
    "from PIL import Image\n",
    "from models import UNet16\n",
    "\n",
    "import torchvision.transforms.functional as TF\n"
   ]
  },
  {
   "cell_type": "code",
   "execution_count": 2,
   "metadata": {},
   "outputs": [],
   "source": [
    "#model = UNet11Double(pretrained=True)\n",
    "model = UNet16(16, pretrained=True)\n",
    "\n",
    "model.load_state_dict(torch.load('./marchantia_results/semseg/100epochs_16fdim_2/model_100epochs_16fdim_unet16_bce.pt'))\n",
    "# model.load_state_dict(torch.load('./marchantia_results/semseg/gray_variation/model_100epochs_16fdim_unet16_255grayvar.pt'))\n",
    "model.eval()\n",
    "\n",
    "device = torch.device(\"cuda:0\")\n",
    "\n",
    "model = model.to(device)"
   ]
  },
  {
   "cell_type": "code",
   "execution_count": 4,
   "metadata": {},
   "outputs": [],
   "source": [
    "transform = transforms.Compose([\n",
    "    transforms.ToTensor()\n",
    "])\n",
    "\n",
    "with torch.no_grad():\n",
    "#     image = Image.open('./CVPPP2017_LSC_training/testing/A1/plant001_rgb.png')\n",
    "#     mask = Image.open('./CVPPP2017_LSC_training/testing/A1/plant001_fg.png')\n",
    "    image = Image.open('../marchantia_images/g1_t036_c001.png')\n",
    "\n",
    "#     image = TF.resize(image, (512,512))\n",
    "#     mask = TF.resize(mask, (512,512))\n",
    "    \n",
    "#     mask = mask.convert(\"RGB\")\n",
    "#     mask2 = np.asarray(mask, dtype=np.float32) / 255\n",
    "#     print(mask2.shape)\n",
    "\n",
    "    image = image.convert(\"RGB\")\n",
    "    image = np.asarray(image, dtype=np.float32) / 255\n",
    "    image = image[:, :, :3]\n",
    "    \n",
    "#     instance_input = np.where(mask2 == 0, np.array([0,0,0], dtype = np.float32), image)\n",
    "    \n",
    "#     mask = TF.to_grayscale(mask, num_output_channels=1)\n",
    "\n",
    "#     mask = transform(mask)\n",
    "#     mask = mask.to(device)\n",
    "    \n",
    "    image = transform(image)\n",
    "    image = image.unsqueeze(0)\n",
    "    \n",
    "#     instance_input = transform(instance_input)\n",
    "#     instance_input = instance_input.unsqueeze(0)\n",
    "\n",
    "    image = image.to(device)\n",
    "    output = model(image)\n",
    "    output_img = output[0] #> 0.5\n",
    "    torchvision.utils.save_image(output_img, './marchantia_results/semseg/100epochs_16fdim_2/100_16fdim_result1_036.png')\n",
    "#     torchvision.utils.save_image(image, './marchantia_results/semseg/input1_036.png')\n",
    "#     torchvision.utils.save_image(mask, './results/semseg/mask001.png')\n",
    "    \n",
    "#     torchvision.utils.save_image(instance_input, './results/semseg/insinput6_037.png')\n",
    "    "
   ]
  },
  {
   "cell_type": "code",
   "execution_count": null,
   "metadata": {},
   "outputs": [],
   "source": []
  }
 ],
 "metadata": {
  "kernelspec": {
   "display_name": "Python 3",
   "language": "python",
   "name": "python3"
  },
  "language_info": {
   "codemirror_mode": {
    "name": "ipython",
    "version": 3
   },
   "file_extension": ".py",
   "mimetype": "text/x-python",
   "name": "python",
   "nbconvert_exporter": "python",
   "pygments_lexer": "ipython3",
   "version": "3.5.2"
  }
 },
 "nbformat": 4,
 "nbformat_minor": 2
}
